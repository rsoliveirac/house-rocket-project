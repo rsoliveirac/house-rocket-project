{
 "cells": [
  {
   "cell_type": "markdown",
   "id": "automatic-intensity",
   "metadata": {},
   "source": [
    "# 0.0 Importar pacotes"
   ]
  },
  {
   "cell_type": "code",
   "execution_count": 1,
   "id": "familiar-shanghai",
   "metadata": {},
   "outputs": [
    {
     "name": "stderr",
     "output_type": "stream",
     "text": [
      "/home/user/.pyenv/versions/3.8.0/lib/python3.8/site-packages/pandas/compat/__init__.py:97: UserWarning: Could not import the lzma module. Your installed Python is incomplete. Attempting to use lzma compression will result in a RuntimeError.\n",
      "  warnings.warn(msg)\n"
     ]
    }
   ],
   "source": [
    "from matplotlib import gridspec\n",
    "from datetime import datetime\n",
    "from ipywidgets import fixed\n",
    "from tabulate import tabulate\n",
    "from matplotlib import pyplot as plt\n",
    "import pandas as pd\n",
    "import numpy as np\n",
    "import plotly.express as px\n",
    "import warnings\n",
    "import tqdm\n",
    "import ipywidgets as widgets\n",
    "import seaborn as sns\n",
    "import matplotlib.ticker as mtick\n"
   ]
  },
  {
   "cell_type": "markdown",
   "id": "clean-helicopter",
   "metadata": {},
   "source": [
    "## 0.1 Funções Auxiliares"
   ]
  },
  {
   "cell_type": "code",
   "execution_count": 2,
   "id": "hundred-discipline",
   "metadata": {},
   "outputs": [],
   "source": [
    "pd.options.display.float_format = '{:.2f}'.format\n",
    "    \n",
    "\n",
    "plt.rcParams['figure.figsize'] = (11,7)\n",
    "\n",
    "warnings.filterwarnings('ignore')"
   ]
  },
  {
   "cell_type": "markdown",
   "id": "romantic-begin",
   "metadata": {},
   "source": [
    "# 1.0 Dados"
   ]
  },
  {
   "cell_type": "markdown",
   "id": "usual-smoke",
   "metadata": {
    "heading_collapsed": true
   },
   "source": [
    "## 1.1 Importando dataset"
   ]
  },
  {
   "cell_type": "code",
   "execution_count": 3,
   "id": "centered-permit",
   "metadata": {
    "hidden": true
   },
   "outputs": [],
   "source": [
    "df = pd.read_csv('dataset/kc_house_data.csv')"
   ]
  },
  {
   "cell_type": "markdown",
   "id": "appointed-respect",
   "metadata": {
    "heading_collapsed": true
   },
   "source": [
    "## 1.2 Dimensão dos dados"
   ]
  },
  {
   "cell_type": "code",
   "execution_count": 4,
   "id": "canadian-partnership",
   "metadata": {
    "hidden": true
   },
   "outputs": [
    {
     "name": "stdout",
     "output_type": "stream",
     "text": [
      "Número de linha: 21613\n",
      "Número de colunas: 21\n"
     ]
    }
   ],
   "source": [
    "print('Número de linha:', df.shape[0])\n",
    "\n",
    "print('Número de colunas:', df.shape[1])"
   ]
  },
  {
   "cell_type": "markdown",
   "id": "general-gilbert",
   "metadata": {
    "heading_collapsed": true
   },
   "source": [
    "## 1.3 Tipos de variáveis"
   ]
  },
  {
   "cell_type": "code",
   "execution_count": 5,
   "id": "superb-trick",
   "metadata": {
    "hidden": true
   },
   "outputs": [
    {
     "data": {
      "text/plain": [
       "id                 int64\n",
       "date              object\n",
       "price            float64\n",
       "bedrooms           int64\n",
       "bathrooms        float64\n",
       "sqft_living        int64\n",
       "sqft_lot           int64\n",
       "floors           float64\n",
       "waterfront         int64\n",
       "view               int64\n",
       "condition          int64\n",
       "grade              int64\n",
       "sqft_above         int64\n",
       "sqft_basement      int64\n",
       "yr_built           int64\n",
       "yr_renovated       int64\n",
       "zipcode            int64\n",
       "lat              float64\n",
       "long             float64\n",
       "sqft_living15      int64\n",
       "sqft_lot15         int64\n",
       "dtype: object"
      ]
     },
     "execution_count": 5,
     "metadata": {},
     "output_type": "execute_result"
    }
   ],
   "source": [
    "df.dtypes"
   ]
  },
  {
   "cell_type": "markdown",
   "id": "certain-booth",
   "metadata": {
    "heading_collapsed": true
   },
   "source": [
    "## 1.4 Alterando os tipos de variáveis"
   ]
  },
  {
   "cell_type": "code",
   "execution_count": 6,
   "id": "dedicated-subsection",
   "metadata": {
    "hidden": true
   },
   "outputs": [],
   "source": [
    "df['date'] = pd.to_datetime(df['date']) \n"
   ]
  },
  {
   "cell_type": "markdown",
   "id": "equivalent-cooling",
   "metadata": {},
   "source": [
    "## 1.5 Limpeza de dados"
   ]
  },
  {
   "cell_type": "markdown",
   "id": "contained-worthy",
   "metadata": {
    "heading_collapsed": true
   },
   "source": [
    "## 1.6 Criação de novas features"
   ]
  },
  {
   "cell_type": "code",
   "execution_count": 7,
   "id": "rapid-leisure",
   "metadata": {
    "hidden": true
   },
   "outputs": [],
   "source": [
    "df['construcao'] = df['yr_built'].apply(lambda x: '> 1955' if x > 1955\n",
    "                                                               else '< 1955')\n",
    "\n",
    "df['porao'] = df['sqft_basement'].apply(lambda x: 'nao' if x == 0\n",
    "                                                  else 'sim')\n",
    "\n",
    "df['mes'] = df['date'].dt.month\n",
    "df['ano'] = df['date'].dt.year\n",
    "\n",
    "df['renovacao'] = df['yr_renovated'].apply(lambda x: 'sim' if x > 0 else\n",
    "                                                     'nao'   )\n",
    "\n",
    "df['banheiro'] =  df['bathrooms'].apply(lambda x: '0-3' if (x > 0 ) & (x < 3) else\n",
    "                                                   '3-5' if (x > 3) & (x < 5) else\n",
    "                                                   '5-8')\n",
    "\n",
    "\n",
    "        \n",
    "        \n",
    "df['season'] = df['mes'].apply(lambda x: 'summer' if (x > 5) & (x < 8) else\n",
    "                                           'spring' if (x > 2) & (x < 5) else\n",
    "                                           'fall' if (x > 8) & (x < 12) else\n",
    "                                           'winter') "
   ]
  },
  {
   "cell_type": "markdown",
   "id": "sound-edition",
   "metadata": {
    "heading_collapsed": true,
    "hidden": true
   },
   "source": [
    "### 1.5.1 Duplicatas"
   ]
  },
  {
   "cell_type": "code",
   "execution_count": 8,
   "id": "square-cloud",
   "metadata": {
    "hidden": true
   },
   "outputs": [
    {
     "data": {
      "text/html": [
       "<div>\n",
       "<style scoped>\n",
       "    .dataframe tbody tr th:only-of-type {\n",
       "        vertical-align: middle;\n",
       "    }\n",
       "\n",
       "    .dataframe tbody tr th {\n",
       "        vertical-align: top;\n",
       "    }\n",
       "\n",
       "    .dataframe thead th {\n",
       "        text-align: right;\n",
       "    }\n",
       "</style>\n",
       "<table border=\"1\" class=\"dataframe\">\n",
       "  <thead>\n",
       "    <tr style=\"text-align: right;\">\n",
       "      <th></th>\n",
       "      <th>id</th>\n",
       "      <th>date</th>\n",
       "      <th>price</th>\n",
       "      <th>bedrooms</th>\n",
       "      <th>bathrooms</th>\n",
       "      <th>sqft_living</th>\n",
       "      <th>sqft_lot</th>\n",
       "      <th>floors</th>\n",
       "      <th>waterfront</th>\n",
       "      <th>view</th>\n",
       "      <th>...</th>\n",
       "      <th>long</th>\n",
       "      <th>sqft_living15</th>\n",
       "      <th>sqft_lot15</th>\n",
       "      <th>construcao</th>\n",
       "      <th>porao</th>\n",
       "      <th>mes</th>\n",
       "      <th>ano</th>\n",
       "      <th>renovacao</th>\n",
       "      <th>banheiro</th>\n",
       "      <th>season</th>\n",
       "    </tr>\n",
       "  </thead>\n",
       "  <tbody>\n",
       "    <tr>\n",
       "      <th>2497</th>\n",
       "      <td>1000102</td>\n",
       "      <td>2015-04-22</td>\n",
       "      <td>300000.00</td>\n",
       "      <td>6</td>\n",
       "      <td>3.00</td>\n",
       "      <td>2400</td>\n",
       "      <td>9373</td>\n",
       "      <td>2.00</td>\n",
       "      <td>0</td>\n",
       "      <td>0</td>\n",
       "      <td>...</td>\n",
       "      <td>-122.21</td>\n",
       "      <td>2060</td>\n",
       "      <td>7316</td>\n",
       "      <td>&gt; 1955</td>\n",
       "      <td>nao</td>\n",
       "      <td>4</td>\n",
       "      <td>2015</td>\n",
       "      <td>nao</td>\n",
       "      <td>5-8</td>\n",
       "      <td>spring</td>\n",
       "    </tr>\n",
       "    <tr>\n",
       "      <th>2496</th>\n",
       "      <td>1000102</td>\n",
       "      <td>2014-09-16</td>\n",
       "      <td>280000.00</td>\n",
       "      <td>6</td>\n",
       "      <td>3.00</td>\n",
       "      <td>2400</td>\n",
       "      <td>9373</td>\n",
       "      <td>2.00</td>\n",
       "      <td>0</td>\n",
       "      <td>0</td>\n",
       "      <td>...</td>\n",
       "      <td>-122.21</td>\n",
       "      <td>2060</td>\n",
       "      <td>7316</td>\n",
       "      <td>&gt; 1955</td>\n",
       "      <td>nao</td>\n",
       "      <td>9</td>\n",
       "      <td>2014</td>\n",
       "      <td>nao</td>\n",
       "      <td>5-8</td>\n",
       "      <td>fall</td>\n",
       "    </tr>\n",
       "    <tr>\n",
       "      <th>6735</th>\n",
       "      <td>1200019</td>\n",
       "      <td>2014-05-08</td>\n",
       "      <td>647500.00</td>\n",
       "      <td>4</td>\n",
       "      <td>1.75</td>\n",
       "      <td>2060</td>\n",
       "      <td>26036</td>\n",
       "      <td>1.00</td>\n",
       "      <td>0</td>\n",
       "      <td>0</td>\n",
       "      <td>...</td>\n",
       "      <td>-122.35</td>\n",
       "      <td>2590</td>\n",
       "      <td>21891</td>\n",
       "      <td>&lt; 1955</td>\n",
       "      <td>sim</td>\n",
       "      <td>5</td>\n",
       "      <td>2014</td>\n",
       "      <td>nao</td>\n",
       "      <td>0-3</td>\n",
       "      <td>winter</td>\n",
       "    </tr>\n",
       "    <tr>\n",
       "      <th>8411</th>\n",
       "      <td>1200021</td>\n",
       "      <td>2014-08-11</td>\n",
       "      <td>400000.00</td>\n",
       "      <td>3</td>\n",
       "      <td>1.00</td>\n",
       "      <td>1460</td>\n",
       "      <td>43000</td>\n",
       "      <td>1.00</td>\n",
       "      <td>0</td>\n",
       "      <td>0</td>\n",
       "      <td>...</td>\n",
       "      <td>-122.35</td>\n",
       "      <td>2250</td>\n",
       "      <td>20023</td>\n",
       "      <td>&lt; 1955</td>\n",
       "      <td>nao</td>\n",
       "      <td>8</td>\n",
       "      <td>2014</td>\n",
       "      <td>nao</td>\n",
       "      <td>0-3</td>\n",
       "      <td>winter</td>\n",
       "    </tr>\n",
       "    <tr>\n",
       "      <th>8809</th>\n",
       "      <td>2800031</td>\n",
       "      <td>2015-04-01</td>\n",
       "      <td>235000.00</td>\n",
       "      <td>3</td>\n",
       "      <td>1.00</td>\n",
       "      <td>1430</td>\n",
       "      <td>7599</td>\n",
       "      <td>1.50</td>\n",
       "      <td>0</td>\n",
       "      <td>0</td>\n",
       "      <td>...</td>\n",
       "      <td>-122.27</td>\n",
       "      <td>1290</td>\n",
       "      <td>10320</td>\n",
       "      <td>&lt; 1955</td>\n",
       "      <td>sim</td>\n",
       "      <td>4</td>\n",
       "      <td>2015</td>\n",
       "      <td>nao</td>\n",
       "      <td>0-3</td>\n",
       "      <td>spring</td>\n",
       "    </tr>\n",
       "  </tbody>\n",
       "</table>\n",
       "<p>5 rows × 28 columns</p>\n",
       "</div>"
      ],
      "text/plain": [
       "           id       date     price  bedrooms  bathrooms  sqft_living  \\\n",
       "2497  1000102 2015-04-22 300000.00         6       3.00         2400   \n",
       "2496  1000102 2014-09-16 280000.00         6       3.00         2400   \n",
       "6735  1200019 2014-05-08 647500.00         4       1.75         2060   \n",
       "8411  1200021 2014-08-11 400000.00         3       1.00         1460   \n",
       "8809  2800031 2015-04-01 235000.00         3       1.00         1430   \n",
       "\n",
       "      sqft_lot  floors  waterfront  view  ...    long  sqft_living15  \\\n",
       "2497      9373    2.00           0     0  ... -122.21           2060   \n",
       "2496      9373    2.00           0     0  ... -122.21           2060   \n",
       "6735     26036    1.00           0     0  ... -122.35           2590   \n",
       "8411     43000    1.00           0     0  ... -122.35           2250   \n",
       "8809      7599    1.50           0     0  ... -122.27           1290   \n",
       "\n",
       "      sqft_lot15  construcao  porao  mes   ano  renovacao  banheiro  season  \n",
       "2497        7316      > 1955    nao    4  2015        nao       5-8  spring  \n",
       "2496        7316      > 1955    nao    9  2014        nao       5-8    fall  \n",
       "6735       21891      < 1955    sim    5  2014        nao       0-3  winter  \n",
       "8411       20023      < 1955    nao    8  2014        nao       0-3  winter  \n",
       "8809       10320      < 1955    sim    4  2015        nao       0-3  spring  \n",
       "\n",
       "[5 rows x 28 columns]"
      ]
     },
     "execution_count": 8,
     "metadata": {},
     "output_type": "execute_result"
    }
   ],
   "source": [
    "df.sort_values('id').head(5)"
   ]
  },
  {
   "cell_type": "code",
   "execution_count": 9,
   "id": "toxic-vertical",
   "metadata": {
    "hidden": true
   },
   "outputs": [
    {
     "data": {
      "text/html": [
       "<div>\n",
       "<style scoped>\n",
       "    .dataframe tbody tr th:only-of-type {\n",
       "        vertical-align: middle;\n",
       "    }\n",
       "\n",
       "    .dataframe tbody tr th {\n",
       "        vertical-align: top;\n",
       "    }\n",
       "\n",
       "    .dataframe thead th {\n",
       "        text-align: right;\n",
       "    }\n",
       "</style>\n",
       "<table border=\"1\" class=\"dataframe\">\n",
       "  <thead>\n",
       "    <tr style=\"text-align: right;\">\n",
       "      <th></th>\n",
       "      <th>id</th>\n",
       "      <th>date</th>\n",
       "      <th>price</th>\n",
       "      <th>bedrooms</th>\n",
       "      <th>bathrooms</th>\n",
       "      <th>sqft_living</th>\n",
       "      <th>sqft_lot</th>\n",
       "      <th>floors</th>\n",
       "      <th>waterfront</th>\n",
       "      <th>view</th>\n",
       "      <th>...</th>\n",
       "      <th>long</th>\n",
       "      <th>sqft_living15</th>\n",
       "      <th>sqft_lot15</th>\n",
       "      <th>construcao</th>\n",
       "      <th>porao</th>\n",
       "      <th>mes</th>\n",
       "      <th>ano</th>\n",
       "      <th>renovacao</th>\n",
       "      <th>banheiro</th>\n",
       "      <th>season</th>\n",
       "    </tr>\n",
       "  </thead>\n",
       "  <tbody>\n",
       "    <tr>\n",
       "      <th>2497</th>\n",
       "      <td>1000102</td>\n",
       "      <td>2015-04-22</td>\n",
       "      <td>300000.00</td>\n",
       "      <td>6</td>\n",
       "      <td>3.00</td>\n",
       "      <td>2400</td>\n",
       "      <td>9373</td>\n",
       "      <td>2.00</td>\n",
       "      <td>0</td>\n",
       "      <td>0</td>\n",
       "      <td>...</td>\n",
       "      <td>-122.21</td>\n",
       "      <td>2060</td>\n",
       "      <td>7316</td>\n",
       "      <td>&gt; 1955</td>\n",
       "      <td>nao</td>\n",
       "      <td>4</td>\n",
       "      <td>2015</td>\n",
       "      <td>nao</td>\n",
       "      <td>5-8</td>\n",
       "      <td>spring</td>\n",
       "    </tr>\n",
       "    <tr>\n",
       "      <th>6735</th>\n",
       "      <td>1200019</td>\n",
       "      <td>2014-05-08</td>\n",
       "      <td>647500.00</td>\n",
       "      <td>4</td>\n",
       "      <td>1.75</td>\n",
       "      <td>2060</td>\n",
       "      <td>26036</td>\n",
       "      <td>1.00</td>\n",
       "      <td>0</td>\n",
       "      <td>0</td>\n",
       "      <td>...</td>\n",
       "      <td>-122.35</td>\n",
       "      <td>2590</td>\n",
       "      <td>21891</td>\n",
       "      <td>&lt; 1955</td>\n",
       "      <td>sim</td>\n",
       "      <td>5</td>\n",
       "      <td>2014</td>\n",
       "      <td>nao</td>\n",
       "      <td>0-3</td>\n",
       "      <td>winter</td>\n",
       "    </tr>\n",
       "    <tr>\n",
       "      <th>8411</th>\n",
       "      <td>1200021</td>\n",
       "      <td>2014-08-11</td>\n",
       "      <td>400000.00</td>\n",
       "      <td>3</td>\n",
       "      <td>1.00</td>\n",
       "      <td>1460</td>\n",
       "      <td>43000</td>\n",
       "      <td>1.00</td>\n",
       "      <td>0</td>\n",
       "      <td>0</td>\n",
       "      <td>...</td>\n",
       "      <td>-122.35</td>\n",
       "      <td>2250</td>\n",
       "      <td>20023</td>\n",
       "      <td>&lt; 1955</td>\n",
       "      <td>nao</td>\n",
       "      <td>8</td>\n",
       "      <td>2014</td>\n",
       "      <td>nao</td>\n",
       "      <td>0-3</td>\n",
       "      <td>winter</td>\n",
       "    </tr>\n",
       "    <tr>\n",
       "      <th>8809</th>\n",
       "      <td>2800031</td>\n",
       "      <td>2015-04-01</td>\n",
       "      <td>235000.00</td>\n",
       "      <td>3</td>\n",
       "      <td>1.00</td>\n",
       "      <td>1430</td>\n",
       "      <td>7599</td>\n",
       "      <td>1.50</td>\n",
       "      <td>0</td>\n",
       "      <td>0</td>\n",
       "      <td>...</td>\n",
       "      <td>-122.27</td>\n",
       "      <td>1290</td>\n",
       "      <td>10320</td>\n",
       "      <td>&lt; 1955</td>\n",
       "      <td>sim</td>\n",
       "      <td>4</td>\n",
       "      <td>2015</td>\n",
       "      <td>nao</td>\n",
       "      <td>0-3</td>\n",
       "      <td>spring</td>\n",
       "    </tr>\n",
       "    <tr>\n",
       "      <th>3557</th>\n",
       "      <td>3600057</td>\n",
       "      <td>2015-03-19</td>\n",
       "      <td>402500.00</td>\n",
       "      <td>4</td>\n",
       "      <td>2.00</td>\n",
       "      <td>1650</td>\n",
       "      <td>3504</td>\n",
       "      <td>1.00</td>\n",
       "      <td>0</td>\n",
       "      <td>0</td>\n",
       "      <td>...</td>\n",
       "      <td>-122.29</td>\n",
       "      <td>1480</td>\n",
       "      <td>3504</td>\n",
       "      <td>&lt; 1955</td>\n",
       "      <td>sim</td>\n",
       "      <td>3</td>\n",
       "      <td>2015</td>\n",
       "      <td>sim</td>\n",
       "      <td>0-3</td>\n",
       "      <td>spring</td>\n",
       "    </tr>\n",
       "  </tbody>\n",
       "</table>\n",
       "<p>5 rows × 28 columns</p>\n",
       "</div>"
      ],
      "text/plain": [
       "           id       date     price  bedrooms  bathrooms  sqft_living  \\\n",
       "2497  1000102 2015-04-22 300000.00         6       3.00         2400   \n",
       "6735  1200019 2014-05-08 647500.00         4       1.75         2060   \n",
       "8411  1200021 2014-08-11 400000.00         3       1.00         1460   \n",
       "8809  2800031 2015-04-01 235000.00         3       1.00         1430   \n",
       "3557  3600057 2015-03-19 402500.00         4       2.00         1650   \n",
       "\n",
       "      sqft_lot  floors  waterfront  view  ...    long  sqft_living15  \\\n",
       "2497      9373    2.00           0     0  ... -122.21           2060   \n",
       "6735     26036    1.00           0     0  ... -122.35           2590   \n",
       "8411     43000    1.00           0     0  ... -122.35           2250   \n",
       "8809      7599    1.50           0     0  ... -122.27           1290   \n",
       "3557      3504    1.00           0     0  ... -122.29           1480   \n",
       "\n",
       "      sqft_lot15  construcao  porao  mes   ano  renovacao  banheiro  season  \n",
       "2497        7316      > 1955    nao    4  2015        nao       5-8  spring  \n",
       "6735       21891      < 1955    sim    5  2014        nao       0-3  winter  \n",
       "8411       20023      < 1955    nao    8  2014        nao       0-3  winter  \n",
       "8809       10320      < 1955    sim    4  2015        nao       0-3  spring  \n",
       "3557        3504      < 1955    sim    3  2015        sim       0-3  spring  \n",
       "\n",
       "[5 rows x 28 columns]"
      ]
     },
     "execution_count": 9,
     "metadata": {},
     "output_type": "execute_result"
    }
   ],
   "source": [
    "df = df.drop_duplicates(subset = ['id'], keep = 'last')\n",
    "\n",
    "df.sort_values('id').head(5)"
   ]
  },
  {
   "cell_type": "markdown",
   "id": "weird-private",
   "metadata": {
    "heading_collapsed": true,
    "hidden": true
   },
   "source": [
    "### 1.5.1 Check NA"
   ]
  },
  {
   "cell_type": "code",
   "execution_count": 10,
   "id": "cloudy-dispatch",
   "metadata": {
    "hidden": true
   },
   "outputs": [
    {
     "data": {
      "text/plain": [
       "id               0\n",
       "date             0\n",
       "price            0\n",
       "bedrooms         0\n",
       "bathrooms        0\n",
       "sqft_living      0\n",
       "sqft_lot         0\n",
       "floors           0\n",
       "waterfront       0\n",
       "view             0\n",
       "condition        0\n",
       "grade            0\n",
       "sqft_above       0\n",
       "sqft_basement    0\n",
       "yr_built         0\n",
       "yr_renovated     0\n",
       "zipcode          0\n",
       "lat              0\n",
       "long             0\n",
       "sqft_living15    0\n",
       "sqft_lot15       0\n",
       "construcao       0\n",
       "porao            0\n",
       "mes              0\n",
       "ano              0\n",
       "renovacao        0\n",
       "banheiro         0\n",
       "season           0\n",
       "dtype: int64"
      ]
     },
     "execution_count": 10,
     "metadata": {},
     "output_type": "execute_result"
    }
   ],
   "source": [
    "df.isna().sum()"
   ]
  },
  {
   "cell_type": "markdown",
   "id": "included-height",
   "metadata": {
    "heading_collapsed": true,
    "hidden": true
   },
   "source": [
    "### 1.5.2 Estatística descritiva"
   ]
  },
  {
   "cell_type": "code",
   "execution_count": 11,
   "id": "functional-cleaners",
   "metadata": {
    "hidden": true
   },
   "outputs": [],
   "source": [
    "df = df.copy()"
   ]
  },
  {
   "cell_type": "code",
   "execution_count": 12,
   "id": "demographic-encoding",
   "metadata": {
    "hidden": true
   },
   "outputs": [],
   "source": [
    "#Incluindo somente variáveis numéricas\n",
    "atri_num = df.select_dtypes(include = ['int64', 'float64'])\n",
    "\n",
    "#deletando a coluna 'ID'\n",
    "atri_num = atri_num.iloc[:, 1: ]\n"
   ]
  },
  {
   "cell_type": "code",
   "execution_count": 13,
   "id": "promotional-mozambique",
   "metadata": {
    "hidden": true,
    "scrolled": false
   },
   "outputs": [
    {
     "name": "stdout",
     "output_type": "stream",
     "text": [
      "        atributos     media   mediana       std      min        max\n",
      "0           price 541649.96 450000.00 367306.36 75000.00 7700000.00\n",
      "1        bedrooms      3.37      3.00      0.93     0.00      33.00\n",
      "2       bathrooms      2.12      2.25      0.77     0.00       8.00\n",
      "3     sqft_living   2082.70   1920.00    919.13   290.00   13540.00\n",
      "4        sqft_lot  15135.64   7614.00  41537.65   520.00 1651359.00\n",
      "5          floors      1.50      1.50      0.54     1.00       3.50\n",
      "6      waterfront      0.01      0.00      0.09     0.00       1.00\n",
      "7            view      0.24      0.00      0.77     0.00       4.00\n",
      "8       condition      3.41      3.00      0.65     1.00       5.00\n",
      "9           grade      7.66      7.00      1.17     1.00      13.00\n",
      "10     sqft_above   1790.96   1560.00    829.01   290.00    9410.00\n",
      "11  sqft_basement    291.74      0.00    442.77     0.00    4820.00\n",
      "12       yr_built   1971.10   1975.00     29.38  1900.00    2015.00\n",
      "13   yr_renovated     84.73      0.00    402.42     0.00    2015.00\n",
      "14        zipcode  98077.86  98065.00     53.47 98001.00   98199.00\n",
      "15            lat     47.56     47.57      0.14    47.16      47.78\n",
      "16           long   -122.21   -122.23      0.14  -122.52    -121.31\n",
      "17  sqft_living15   1988.31   1840.00    685.68   399.00    6210.00\n",
      "18     sqft_lot15  12785.96   7620.00  27374.83   651.00  871200.00\n",
      "19            mes      6.56      6.00      3.12     1.00      12.00\n",
      "20            ano   2014.33   2014.00      0.47  2014.00    2015.00\n"
     ]
    },
    {
     "data": {
      "image/png": "[encoded data removed]",
      "text/plain": [
       "<Figure size 792x504 with 6 Axes>"
      ]
     },
     "metadata": {
      "needs_background": "light"
     },
     "output_type": "display_data"
    }
   ],
   "source": [
    "#análise descritiva\n",
    "#medidas de tendencia central\n",
    "df_mean =  pd.DataFrame(atri_num.apply(np.mean)).T\n",
    "df_median = pd.DataFrame(atri_num.apply(np.median)).T\n",
    "\n",
    "#medidas de dispersão \n",
    "df_std = pd.DataFrame(atri_num.apply(np.std)).T\n",
    "df_min = pd.DataFrame(atri_num.apply(np.min)).T\n",
    "df_max = pd.DataFrame(atri_num.apply(np.max)).T\n",
    "\n",
    "\n",
    "#concatenando\n",
    "est = pd.concat( [df_mean, df_median,  df_std, df_min, df_max ] ).T.reset_index()\n",
    "\n",
    "\n",
    "\n",
    "#alterando o nome das colunas\n",
    "est.columns = [ 'atributos','media', 'mediana', 'std', 'min', 'max']\n",
    "print(est)\n",
    "est.hist();\n"
   ]
  },
  {
   "cell_type": "code",
   "execution_count": 14,
   "id": "derived-california",
   "metadata": {
    "hidden": true
   },
   "outputs": [
    {
     "data": {
      "text/plain": [
       "array([ 3,  2,  4,  5,  1,  6,  7,  0,  8,  9, 11, 10])"
      ]
     },
     "execution_count": 14,
     "metadata": {},
     "output_type": "execute_result"
    }
   ],
   "source": [
    "#substituindo o valor de 33 na coluna bedrooms por 3\n",
    "linha = df[df['bedrooms'] == 33]\n",
    "\n",
    "df = df.drop(15870)\n",
    "\n",
    "df['bedrooms'].unique()"
   ]
  },
  {
   "cell_type": "markdown",
   "id": "referenced-volleyball",
   "metadata": {},
   "source": [
    "# 2.0 Exploração de dados"
   ]
  },
  {
   "cell_type": "markdown",
   "id": "dried-calgary",
   "metadata": {
    "heading_collapsed": true
   },
   "source": [
    "## Correlação"
   ]
  },
  {
   "cell_type": "code",
   "execution_count": 15,
   "id": "together-deputy",
   "metadata": {
    "hidden": true
   },
   "outputs": [
    {
     "data": {
      "image/png": "[encoded data removed]",
      "text/plain": [
       "<Figure size 792x504 with 2 Axes>"
      ]
     },
     "metadata": {
      "needs_background": "light"
     },
     "output_type": "display_data"
    }
   ],
   "source": [
    "matrix = np.triu(df.corr())\n",
    "\n",
    "sns.heatmap(df.corr(), cmap = 'OrRd', square = True, annot = False, center = 0,\n",
    "             mask = matrix);\n",
    "\n",
    "\n"
   ]
  },
  {
   "cell_type": "markdown",
   "id": "accepted-brush",
   "metadata": {},
   "source": [
    "## 2.1 Insights"
   ]
  },
  {
   "cell_type": "code",
   "execution_count": 16,
   "id": "dying-plate",
   "metadata": {},
   "outputs": [],
   "source": [
    "df = df.copy()"
   ]
  },
  {
   "cell_type": "code",
   "execution_count": 17,
   "id": "incorporated-richmond",
   "metadata": {},
   "outputs": [
    {
     "data": {
      "text/plain": [
       "id                        int64\n",
       "date             datetime64[ns]\n",
       "price                   float64\n",
       "bedrooms                  int64\n",
       "bathrooms               float64\n",
       "sqft_living               int64\n",
       "sqft_lot                  int64\n",
       "floors                  float64\n",
       "waterfront                int64\n",
       "view                      int64\n",
       "condition                 int64\n",
       "grade                     int64\n",
       "sqft_above                int64\n",
       "sqft_basement             int64\n",
       "yr_built                  int64\n",
       "yr_renovated              int64\n",
       "zipcode                   int64\n",
       "lat                     float64\n",
       "long                    float64\n",
       "sqft_living15             int64\n",
       "sqft_lot15                int64\n",
       "construcao               object\n",
       "porao                    object\n",
       "mes                       int64\n",
       "ano                       int64\n",
       "renovacao                object\n",
       "banheiro                 object\n",
       "season                   object\n",
       "dtype: object"
      ]
     },
     "execution_count": 17,
     "metadata": {},
     "output_type": "execute_result"
    }
   ],
   "source": [
    "df.dtypes"
   ]
  },
  {
   "cell_type": "markdown",
   "id": "northern-essay",
   "metadata": {},
   "source": [
    "### **H1:**   Imóveis com vista para a água são em média 30% mais caros"
   ]
  },
  {
   "cell_type": "code",
   "execution_count": 18,
   "id": "unlimited-short",
   "metadata": {},
   "outputs": [
    {
     "data": {
      "image/png": "[encoded data removed]",
      "text/plain": [
       "<Figure size 792x504 with 1 Axes>"
      ]
     },
     "metadata": {
      "needs_background": "light"
     },
     "output_type": "display_data"
    }
   ],
   "source": [
    "h1 = df[['price', 'waterfront']].groupby('waterfront').mean().reset_index()\n",
    "\n",
    "h1['waterfront'] = h1['waterfront'].astype(str)\n",
    "\n",
    "sns.barplot(h1['waterfront'], h1['price']);\n",
    "\n",
    "\n",
    "\n"
   ]
  },
  {
   "cell_type": "markdown",
   "id": "shaped-satellite",
   "metadata": {},
   "source": [
    "### H2: Imóveis com data de construção menor que 1955 são em média 50% mais baratos.\n"
   ]
  },
  {
   "cell_type": "code",
   "execution_count": 19,
   "id": "widespread-progress",
   "metadata": {},
   "outputs": [
    {
     "data": {
      "image/png": "[encoded data removed]",
      "text/plain": [
       "<Figure size 792x504 with 1 Axes>"
      ]
     },
     "metadata": {
      "needs_background": "light"
     },
     "output_type": "display_data"
    }
   ],
   "source": [
    "h2 = df[['construcao', 'price']].groupby('construcao').mean().reset_index()\n",
    "\n",
    "sns.barplot(h2['construcao'], h2['price']);"
   ]
  },
  {
   "cell_type": "markdown",
   "id": "sound-assets",
   "metadata": {},
   "source": [
    "### H3: Imóveis sem porão possuem área total (sqrt_lot) são 40% maiores do que imóveis com \tporões.\n"
   ]
  },
  {
   "cell_type": "code",
   "execution_count": 20,
   "id": "nonprofit-customs",
   "metadata": {},
   "outputs": [
    {
     "data": {
      "image/png": "[encoded data removed]",
      "text/plain": [
       "<Figure size 792x504 with 1 Axes>"
      ]
     },
     "metadata": {
      "needs_background": "light"
     },
     "output_type": "display_data"
    }
   ],
   "source": [
    "h3 = df[['porao', 'sqft_lot', 'price']].groupby('porao').sum().reset_index()\n",
    "\n",
    "h3\n",
    "sns.barplot(h3['porao'], h3['sqft_lot']);"
   ]
  },
  {
   "cell_type": "markdown",
   "id": "champion-negotiation",
   "metadata": {},
   "source": [
    "### H4: O crescimento do preço dos imóveis ano após ano (YoY) é de 10%\n"
   ]
  },
  {
   "cell_type": "code",
   "execution_count": 21,
   "id": "current-transition",
   "metadata": {},
   "outputs": [
    {
     "data": {
      "image/png": "[encoded data removed]",
      "text/plain": [
       "<Figure size 792x504 with 1 Axes>"
      ]
     },
     "metadata": {
      "needs_background": "light"
     },
     "output_type": "display_data"
    }
   ],
   "source": [
    "h4 = df[['price', 'ano']].groupby('ano').sum().reset_index()\n",
    "\n",
    "h4['ano'] = h4['ano'].astype(str)\n",
    "\n",
    "sns.barplot(h4['ano'], h4['price']);"
   ]
  },
  {
   "cell_type": "markdown",
   "id": "induced-partition",
   "metadata": {},
   "source": [
    "### H4.1: O crescimento do preço dos imóveis MoM é de 10%"
   ]
  },
  {
   "cell_type": "code",
   "execution_count": 22,
   "id": "weighted-provision",
   "metadata": {},
   "outputs": [
    {
     "data": {
      "image/png": "[encoded data removed]",
      "text/plain": [
       "<Figure size 792x504 with 1 Axes>"
      ]
     },
     "metadata": {},
     "output_type": "display_data"
    }
   ],
   "source": [
    "h41 =  df[['mes', 'price']].groupby('mes').sum().reset_index()\n",
    "\n",
    "sns.set_theme(style=\"ticks\")\n",
    "sns.set_context('notebook')\n",
    "sns.lineplot(data = h41, x = 'mes',  y = 'price', \n",
    "             markers = True, style = (1), legend = False, \n",
    "             color = 'black');\n"
   ]
  },
  {
   "cell_type": "markdown",
   "id": "shaped-retail",
   "metadata": {},
   "source": [
    "###  H5: Imóveis com 3 banheiros tem um crescimento mês após mês (MoM) de 15%.\n"
   ]
  },
  {
   "cell_type": "code",
   "execution_count": 23,
   "id": "accomplished-excellence",
   "metadata": {},
   "outputs": [
    {
     "data": {
      "image/png": "[encoded data removed]",
      "text/plain": [
       "<Figure size 792x504 with 1 Axes>"
      ]
     },
     "metadata": {},
     "output_type": "display_data"
    }
   ],
   "source": [
    "\n",
    "\n",
    "h5 = df[(df['bathrooms'] == 3)]\n",
    "\n",
    "h5 = h5[['mes', 'price']].groupby('mes').sum().reset_index()\n",
    "\n",
    "\n",
    "sns.lineplot(data = h5, x = 'mes', y = 'price', markers = True, style = (1), legend = False, color = 'black');\n",
    "\n",
    "\n"
   ]
  },
  {
   "cell_type": "markdown",
   "id": "occasional-temple",
   "metadata": {},
   "source": [
    "### H6: Imóveis que nunca foram reformadas (yr_renovated == 0) são em média 20% mais baratos. \n"
   ]
  },
  {
   "cell_type": "code",
   "execution_count": 24,
   "id": "statistical-supervision",
   "metadata": {},
   "outputs": [
    {
     "data": {
      "image/png": "[encoded data removed]",
      "text/plain": [
       "<Figure size 792x504 with 1 Axes>"
      ]
     },
     "metadata": {},
     "output_type": "display_data"
    }
   ],
   "source": [
    "h6 = df[['price', 'renovacao']].groupby('renovacao').mean().reset_index()\n",
    "\n",
    "sns.barplot(h6['renovacao'], h6['price']);"
   ]
  },
  {
   "cell_type": "markdown",
   "id": "precious-evans",
   "metadata": {},
   "source": [
    "### H7: Imóveis em más condições mas com boa vista (view) são 10% mais caros.\n"
   ]
  },
  {
   "cell_type": "code",
   "execution_count": 25,
   "id": "proof-creek",
   "metadata": {},
   "outputs": [
    {
     "data": {
      "image/png": "[encoded data removed]",
      "text/plain": [
       "<Figure size 792x504 with 1 Axes>"
      ]
     },
     "metadata": {},
     "output_type": "display_data"
    }
   ],
   "source": [
    "h71 = df[df['condition'] == 1]\n",
    "h7 = df[['price', 'view']].groupby('view').sum().reset_index()\n",
    "\n",
    "sns.barplot(h7['view'], h7['price']);\n"
   ]
  },
  {
   "cell_type": "markdown",
   "id": "exempt-vulnerability",
   "metadata": {},
   "source": [
    "### H8: Imóveis antigos e não renovados são 40% mais baratos. \n"
   ]
  },
  {
   "cell_type": "code",
   "execution_count": 26,
   "id": "marked-mississippi",
   "metadata": {},
   "outputs": [
    {
     "data": {
      "text/plain": [
       "<AxesSubplot:xlabel='construcao', ylabel='price'>"
      ]
     },
     "execution_count": 26,
     "metadata": {},
     "output_type": "execute_result"
    },
    {
     "data": {
      "image/png": "[encoded data removed]",
      "text/plain": [
       "<Figure size 792x504 with 1 Axes>"
      ]
     },
     "metadata": {},
     "output_type": "display_data"
    }
   ],
   "source": [
    "h8 = df[df['renovacao'] == 1]\n",
    "\n",
    "h8 = df[['construcao', 'price']].groupby('construcao').sum().reset_index()\n",
    "\n",
    "\n",
    "sns.barplot(x ='construcao', y = 'price', data = h8 )"
   ]
  },
  {
   "cell_type": "markdown",
   "id": "private-oxygen",
   "metadata": {},
   "source": [
    "### H9: Imóveis com mais banheiros são em média 5% mais caros.\n"
   ]
  },
  {
   "cell_type": "code",
   "execution_count": 27,
   "id": "noble-anchor",
   "metadata": {},
   "outputs": [
    {
     "data": {
      "image/png": "[encoded data removed]",
      "text/plain": [
       "<Figure size 792x504 with 1 Axes>"
      ]
     },
     "metadata": {},
     "output_type": "display_data"
    }
   ],
   "source": [
    "h9 = df[['banheiro', 'price', 'sqft_lot']].groupby('banheiro').mean().reset_index()\n",
    "\n",
    "sns.barplot(x = 'banheiro', y = 'price', data = h9);"
   ]
  },
  {
   "cell_type": "markdown",
   "id": "crazy-louisiana",
   "metadata": {},
   "source": [
    "### H10: Imóveis renovados recentemente são 35% mais caros."
   ]
  },
  {
   "cell_type": "code",
   "execution_count": 28,
   "id": "direct-lender",
   "metadata": {},
   "outputs": [
    {
     "data": {
      "image/png": "[encoded data removed]",
      "text/plain": [
       "<Figure size 792x504 with 1 Axes>"
      ]
     },
     "metadata": {},
     "output_type": "display_data"
    }
   ],
   "source": [
    "h10 = df[['construcao', 'price']].groupby('construcao').mean().reset_index()\n",
    "\n",
    "sns.barplot(x = 'construcao', y = 'price', data = h10);"
   ]
  },
  {
   "cell_type": "markdown",
   "id": "satisfied-madonna",
   "metadata": {},
   "source": [
    "# 3.0 Questão de negócio\n",
    "\n"
   ]
  },
  {
   "cell_type": "markdown",
   "id": "elementary-overall",
   "metadata": {},
   "source": [
    "## 3.1 Quais são os imóveis que a House Rocket deveria comprar e por qual preço?"
   ]
  },
  {
   "cell_type": "code",
   "execution_count": null,
   "id": "potential-pocket",
   "metadata": {
    "deletable": false,
    "editable": false,
    "run_control": {
     "frozen": true
    }
   },
   "outputs": [],
   "source": [
    "df = df.copy()"
   ]
  },
  {
   "cell_type": "markdown",
   "id": "basic-gardening",
   "metadata": {},
   "source": [
    "### 3.1.1 Quais casas"
   ]
  },
  {
   "cell_type": "code",
   "execution_count": 29,
   "id": "unavailable-vietnam",
   "metadata": {},
   "outputs": [],
   "source": [
    "a = df[['zipcode', 'price']].groupby('zipcode').median().reset_index()\n",
    "\n",
    "\n",
    "df2 = pd.merge(a, df, on='zipcode', how = 'inner')\n",
    "\n",
    "\n",
    "df2 = df2.rename(columns = {'price_y' : 'price', 'price_x' : 'price_median'} ) #alterando nome das colunas\n",
    "\n",
    "for i, row in df2.iterrows():\n",
    "    if (row['price_median'] >= row['price']) & (row['condition'] < 3):\n",
    "        df2.loc[i,'pay'] =  'sim'\n",
    "    else:\n",
    "        df2.loc[i, 'pay'] = 'nao'"
   ]
  },
  {
   "cell_type": "code",
   "execution_count": 30,
   "id": "exclusive-choir",
   "metadata": {},
   "outputs": [
    {
     "data": {
      "text/html": [
       "<div>\n",
       "<style scoped>\n",
       "    .dataframe tbody tr th:only-of-type {\n",
       "        vertical-align: middle;\n",
       "    }\n",
       "\n",
       "    .dataframe tbody tr th {\n",
       "        vertical-align: top;\n",
       "    }\n",
       "\n",
       "    .dataframe thead th {\n",
       "        text-align: right;\n",
       "    }\n",
       "</style>\n",
       "<table border=\"1\" class=\"dataframe\">\n",
       "  <thead>\n",
       "    <tr style=\"text-align: right;\">\n",
       "      <th></th>\n",
       "      <th>id</th>\n",
       "      <th>price</th>\n",
       "      <th>pay</th>\n",
       "    </tr>\n",
       "  </thead>\n",
       "  <tbody>\n",
       "    <tr>\n",
       "      <th>0</th>\n",
       "      <td>7895500070</td>\n",
       "      <td>240000.00</td>\n",
       "      <td>sim</td>\n",
       "    </tr>\n",
       "    <tr>\n",
       "      <th>103</th>\n",
       "      <td>5706600170</td>\n",
       "      <td>204900.00</td>\n",
       "      <td>sim</td>\n",
       "    </tr>\n",
       "    <tr>\n",
       "      <th>229</th>\n",
       "      <td>3599600276</td>\n",
       "      <td>215500.00</td>\n",
       "      <td>sim</td>\n",
       "    </tr>\n",
       "    <tr>\n",
       "      <th>605</th>\n",
       "      <td>5152600090</td>\n",
       "      <td>235500.00</td>\n",
       "      <td>sim</td>\n",
       "    </tr>\n",
       "    <tr>\n",
       "      <th>1089</th>\n",
       "      <td>2425700022</td>\n",
       "      <td>425000.00</td>\n",
       "      <td>sim</td>\n",
       "    </tr>\n",
       "    <tr>\n",
       "      <th>...</th>\n",
       "      <td>...</td>\n",
       "      <td>...</td>\n",
       "      <td>...</td>\n",
       "    </tr>\n",
       "    <tr>\n",
       "      <th>20186</th>\n",
       "      <td>1670400090</td>\n",
       "      <td>182000.00</td>\n",
       "      <td>sim</td>\n",
       "    </tr>\n",
       "    <tr>\n",
       "      <th>20611</th>\n",
       "      <td>7812800155</td>\n",
       "      <td>170000.00</td>\n",
       "      <td>sim</td>\n",
       "    </tr>\n",
       "    <tr>\n",
       "      <th>20656</th>\n",
       "      <td>1180002580</td>\n",
       "      <td>180000.00</td>\n",
       "      <td>sim</td>\n",
       "    </tr>\n",
       "    <tr>\n",
       "      <th>21014</th>\n",
       "      <td>7686205370</td>\n",
       "      <td>260000.00</td>\n",
       "      <td>sim</td>\n",
       "    </tr>\n",
       "    <tr>\n",
       "      <th>21109</th>\n",
       "      <td>7205400180</td>\n",
       "      <td>235000.00</td>\n",
       "      <td>sim</td>\n",
       "    </tr>\n",
       "  </tbody>\n",
       "</table>\n",
       "<p>151 rows × 3 columns</p>\n",
       "</div>"
      ],
      "text/plain": [
       "               id     price  pay\n",
       "0      7895500070 240000.00  sim\n",
       "103    5706600170 204900.00  sim\n",
       "229    3599600276 215500.00  sim\n",
       "605    5152600090 235500.00  sim\n",
       "1089   2425700022 425000.00  sim\n",
       "...           ...       ...  ...\n",
       "20186  1670400090 182000.00  sim\n",
       "20611  7812800155 170000.00  sim\n",
       "20656  1180002580 180000.00  sim\n",
       "21014  7686205370 260000.00  sim\n",
       "21109  7205400180 235000.00  sim\n",
       "\n",
       "[151 rows x 3 columns]"
      ]
     },
     "execution_count": 30,
     "metadata": {},
     "output_type": "execute_result"
    }
   ],
   "source": [
    "#Casas para comprar\n",
    "compra = df2[df2['pay'] == 'sim']\n",
    "\n",
    "compra['pay'].shape[0]\n",
    "compra[['id', 'price', 'pay']]\n",
    "\n",
    "\n"
   ]
  },
  {
   "cell_type": "code",
   "execution_count": 31,
   "id": "radio-region",
   "metadata": {},
   "outputs": [
    {
     "data": {
      "application/vnd.jupyter.widget-view+json": {
       "model_id": "2d0e46d953344baebcc288d30b87b598",
       "version_major": 2,
       "version_minor": 0
      },
      "text/plain": [
       "interactive(children=(Dropdown(description='regiao', options=('sim', 'nao'), value='sim'), Output()), _dom_cla…"
      ]
     },
     "metadata": {},
     "output_type": "display_data"
    }
   ],
   "source": [
    "fil_zip = widgets.Dropdown(options = df2['pay'].unique().tolist(),\n",
    "                       description = 'regiao',\n",
    "                       disabled = False)\n",
    "\n",
    "\n",
    "def  update_map (df3, fil_zip):\n",
    "    house = df2[(df2['pay'] == fil_zip)][['id', 'lat', 'long', 'condition', 'pay', 'price']] \n",
    "\n",
    "    mapa = px.scatter_mapbox(house, lat = 'lat', lon = 'long',  \n",
    "                         size = 'price',\n",
    "                         color = 'condition', opacity = 0.5, zoom = 10 )\n",
    "    \n",
    "\n",
    "    mapa.update_layout( mapbox_style = 'open-street-map')\n",
    "    mapa.update_layout( height = 600, margin = {'b':0, 't':0, 'r':0, 'l': 0})\n",
    "    mapa.show()\n",
    "    \n",
    "\n",
    "    \n",
    "widgets.interactive( update_map, df3 = fixed(df2), fil_zip  = fil_zip)"
   ]
  },
  {
   "cell_type": "markdown",
   "id": "oriental-disclosure",
   "metadata": {},
   "source": [
    "## 3.2 Uma vez comprado, qual é o melhor momento para vendê-lo e por qual preço?"
   ]
  },
  {
   "cell_type": "code",
   "execution_count": 32,
   "id": "color-watershed",
   "metadata": {},
   "outputs": [],
   "source": [
    "df3 = df2.copy()\n",
    "\n",
    "\n",
    "df3 = df3[df3['pay'] == 'sim']\n",
    "\n",
    "df4 = df3[['season', 'zipcode', 'price']].groupby(['zipcode', 'season']).median().reset_index()\n",
    "\n",
    "df4 = df4.rename(columns = {'price' : 'price_medi_season', 'season': 'season_median'} ) \n",
    "\n",
    "df5 = pd.merge(df3, df4, on='zipcode', how = 'inner')\n",
    "\n",
    "for i, row in df5.iterrows():\n",
    "    if (row['price_medi_season'] > row['price']):\n",
    "        df5.loc[i, 'sale'] =  row['price'] * 1.1\n",
    "    else:\n",
    "        df5.loc[i, 'sale'] = row['price'] * 1.3\n"
   ]
  },
  {
   "cell_type": "code",
   "execution_count": 33,
   "id": "public-royal",
   "metadata": {},
   "outputs": [
    {
     "data": {
      "text/html": [
       "<div>\n",
       "<style scoped>\n",
       "    .dataframe tbody tr th:only-of-type {\n",
       "        vertical-align: middle;\n",
       "    }\n",
       "\n",
       "    .dataframe tbody tr th {\n",
       "        vertical-align: top;\n",
       "    }\n",
       "\n",
       "    .dataframe thead th {\n",
       "        text-align: right;\n",
       "    }\n",
       "</style>\n",
       "<table border=\"1\" class=\"dataframe\">\n",
       "  <thead>\n",
       "    <tr style=\"text-align: right;\">\n",
       "      <th></th>\n",
       "      <th>season</th>\n",
       "      <th>price</th>\n",
       "      <th>id</th>\n",
       "      <th>sale</th>\n",
       "    </tr>\n",
       "  </thead>\n",
       "  <tbody>\n",
       "    <tr>\n",
       "      <th>0</th>\n",
       "      <td>winter</td>\n",
       "      <td>240000.00</td>\n",
       "      <td>7895500070</td>\n",
       "      <td>312000.00</td>\n",
       "    </tr>\n",
       "    <tr>\n",
       "      <th>1</th>\n",
       "      <td>winter</td>\n",
       "      <td>240000.00</td>\n",
       "      <td>7895500070</td>\n",
       "      <td>312000.00</td>\n",
       "    </tr>\n",
       "    <tr>\n",
       "      <th>2</th>\n",
       "      <td>winter</td>\n",
       "      <td>240000.00</td>\n",
       "      <td>7895500070</td>\n",
       "      <td>312000.00</td>\n",
       "    </tr>\n",
       "    <tr>\n",
       "      <th>3</th>\n",
       "      <td>spring</td>\n",
       "      <td>204900.00</td>\n",
       "      <td>5706600170</td>\n",
       "      <td>225390.00</td>\n",
       "    </tr>\n",
       "    <tr>\n",
       "      <th>4</th>\n",
       "      <td>spring</td>\n",
       "      <td>204900.00</td>\n",
       "      <td>5706600170</td>\n",
       "      <td>266370.00</td>\n",
       "    </tr>\n",
       "    <tr>\n",
       "      <th>...</th>\n",
       "      <td>...</td>\n",
       "      <td>...</td>\n",
       "      <td>...</td>\n",
       "      <td>...</td>\n",
       "    </tr>\n",
       "    <tr>\n",
       "      <th>363</th>\n",
       "      <td>spring</td>\n",
       "      <td>180000.00</td>\n",
       "      <td>1180002580</td>\n",
       "      <td>234000.00</td>\n",
       "    </tr>\n",
       "    <tr>\n",
       "      <th>364</th>\n",
       "      <td>fall</td>\n",
       "      <td>260000.00</td>\n",
       "      <td>7686205370</td>\n",
       "      <td>338000.00</td>\n",
       "    </tr>\n",
       "    <tr>\n",
       "      <th>365</th>\n",
       "      <td>fall</td>\n",
       "      <td>260000.00</td>\n",
       "      <td>7686205370</td>\n",
       "      <td>338000.00</td>\n",
       "    </tr>\n",
       "    <tr>\n",
       "      <th>366</th>\n",
       "      <td>winter</td>\n",
       "      <td>235000.00</td>\n",
       "      <td>7205400180</td>\n",
       "      <td>258500.00</td>\n",
       "    </tr>\n",
       "    <tr>\n",
       "      <th>367</th>\n",
       "      <td>winter</td>\n",
       "      <td>235000.00</td>\n",
       "      <td>7205400180</td>\n",
       "      <td>305500.00</td>\n",
       "    </tr>\n",
       "  </tbody>\n",
       "</table>\n",
       "<p>368 rows × 4 columns</p>\n",
       "</div>"
      ],
      "text/plain": [
       "     season     price          id      sale\n",
       "0    winter 240000.00  7895500070 312000.00\n",
       "1    winter 240000.00  7895500070 312000.00\n",
       "2    winter 240000.00  7895500070 312000.00\n",
       "3    spring 204900.00  5706600170 225390.00\n",
       "4    spring 204900.00  5706600170 266370.00\n",
       "..      ...       ...         ...       ...\n",
       "363  spring 180000.00  1180002580 234000.00\n",
       "364    fall 260000.00  7686205370 338000.00\n",
       "365    fall 260000.00  7686205370 338000.00\n",
       "366  winter 235000.00  7205400180 258500.00\n",
       "367  winter 235000.00  7205400180 305500.00\n",
       "\n",
       "[368 rows x 4 columns]"
      ]
     },
     "execution_count": 33,
     "metadata": {},
     "output_type": "execute_result"
    }
   ],
   "source": [
    "lista2 = df5['season'].tolist()\n",
    "df5[['season', 'price', 'id', 'sale']]"
   ]
  },
  {
   "cell_type": "code",
   "execution_count": 34,
   "id": "sharp-roots",
   "metadata": {},
   "outputs": [
    {
     "data": {
      "image/png": "[encoded data removed]",
      "text/plain": [
       "<Figure size 792x504 with 1 Axes>"
      ]
     },
     "metadata": {},
     "output_type": "display_data"
    }
   ],
   "source": [
    "a = df5[['price_medi_season', 'price', 'sale', 'price_median', 'season', 'zipcode']]\n",
    "a\n",
    "sns.barplot(data = a, x = 'season', y = 'sale');"
   ]
  },
  {
   "cell_type": "markdown",
   "id": "regional-contrast",
   "metadata": {},
   "source": [
    "### 3.2.1 Resultado do negócio"
   ]
  },
  {
   "cell_type": "code",
   "execution_count": 41,
   "id": "protected-worker",
   "metadata": {},
   "outputs": [],
   "source": [
    "df5 ['lucro'] = df5['sale'] - df5['price']\n"
   ]
  },
  {
   "cell_type": "code",
   "execution_count": 42,
   "id": "married-comfort",
   "metadata": {},
   "outputs": [
    {
     "data": {
      "text/plain": [
       "22623548.200000003"
      ]
     },
     "execution_count": 42,
     "metadata": {},
     "output_type": "execute_result"
    }
   ],
   "source": [
    "df5['lucro'].sum()"
   ]
  },
  {
   "cell_type": "code",
   "execution_count": 36,
   "id": "enabling-rainbow",
   "metadata": {},
   "outputs": [
    {
     "name": "stdout",
     "output_type": "stream",
     "text": [
      "Hipótese    Parecer     Dizeres\n",
      "----------  ----------  -----------------------------------------------------------------------\n",
      "H1          Verdadeira  Imóveis com vista para água são mais caros\n",
      "H2          Falsa       Imóveis com data de construção não parece afetar o preço\n",
      "H3          Verdadeira  Imóveis sem porão possuem maior área total e são mais caros\n",
      "H4          Verdadeira  Imóveis sem reforma são mais baratos\n",
      "H5          Falso       Imóveis com más condições e com vista ruim são mais caros\n",
      "H6          Verdadeira  Imóveis antigos que não foram renovados são mais baratos\n",
      "H7          Falso       Imóveis que possuem entre 3 – 5 banheiros são mais caros\n",
      "H8          Falso       O tempo de renovação não parece influenciar no preço\n",
      "H9          Falso       Os imóveis  sofrem decaimento do preço em relação aos meses\n",
      "H10         Falso       Imóveis com 3 banheiros sofrem decaimento do preço em relação aos meses\n"
     ]
    }
   ],
   "source": [
    "values = [['Hipótese','Parecer','Dizeres',],\n",
    "['H1','Verdadeira','Imóveis com vista para água são mais caros',],\n",
    "['H2','Falsa','Imóveis com data de construção não parece afetar o preço'],\n",
    "['H3',\n",
    "'Verdadeira',\n",
    "'Imóveis sem porão possuem maior área total e são mais caros'],\n",
    "['H4',\n",
    "'Verdadeira',\n",
    "'Imóveis sem reforma são mais baratos'],\n",
    "['H5',\n",
    "'Falso',\n",
    "'Imóveis com más condições e com vista ruim são mais caros'],\n",
    "['H6',\n",
    "'Verdadeira',\n",
    "'Imóveis antigos que não foram renovados são mais baratos'],\n",
    "['H7',\n",
    "'Falso',\n",
    "'Imóveis que possuem entre 3 – 5 banheiros são mais caros'],\n",
    "['H8',\n",
    "'Falso',\n",
    "'O tempo de renovação não parece influenciar no preço'],\n",
    "['H9',\n",
    "'Falso',\n",
    "'Os imóveis  sofrem decaimento do preço em relação aos meses' ],\n",
    "['H10',\n",
    "'Falso',\n",
    "'Imóveis com 3 banheiros sofrem decaimento do preço em relação aos meses']\n",
    "\n",
    "          \n",
    "\n",
    " ]\n",
    "\n",
    "print(tabulate (values, headers = 'firstrow'))"
   ]
  }
 ],
 "metadata": {
  "kernelspec": {
   "display_name": "Python 3",
   "language": "python",
   "name": "python3"
  },
  "language_info": {
   "codemirror_mode": {
    "name": "ipython",
    "version": 3
   },
   "file_extension": ".py",
   "mimetype": "text/x-python",
   "name": "python",
   "nbconvert_exporter": "python",
   "pygments_lexer": "ipython3",
   "version": "3.8.0"
  },
  "varInspector": {
   "cols": {
    "lenName": 16,
    "lenType": 16,
    "lenVar": 40
   },
   "kernels_config": {
    "python": {
     "delete_cmd_postfix": "",
     "delete_cmd_prefix": "del ",
     "library": "var_list.py",
     "varRefreshCmd": "print(var_dic_list())"
    },
    "r": {
     "delete_cmd_postfix": ") ",
     "delete_cmd_prefix": "rm(",
     "library": "var_list.r",
     "varRefreshCmd": "cat(var_dic_list()) "
    }
   },
   "types_to_exclude": [
    "module",
    "function",
    "builtin_function_or_method",
    "instance",
    "_Feature"
   ],
   "window_display": false
  }
 },
 "nbformat": 4,
 "nbformat_minor": 5
}
